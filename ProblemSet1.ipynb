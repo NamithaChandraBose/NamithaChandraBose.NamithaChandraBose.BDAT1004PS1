{
 "cells": [
  {
   "cell_type": "markdown",
   "id": "5a698f9a",
   "metadata": {},
   "source": [
    "## Question 1\n"
   ]
  },
  {
   "cell_type": "code",
   "execution_count": 8,
   "id": "31760635",
   "metadata": {},
   "outputs": [
    {
     "name": "stdout",
     "output_type": "stream",
     "text": [
      "<class 'int'>\n",
      "<class 'int'>\n",
      "<class 'bool'>\n",
      "<class 'str'>\n",
      "<class 'int'>\n",
      "<class 'str'>\n",
      "<class 'str'>\n",
      "<class 'float'>\n",
      "<class 'int'>\n",
      "<class 'set'>\n",
      "<class 'bool'>\n",
      "<class 'float'>\n"
     ]
    }
   ],
   "source": [
    "print(type(5))\n",
    "print(type(5*3))\n",
    "print(type(5>1))\n",
    "print(type('5'))\n",
    "print(type(5 * 2))\n",
    "print(type('5'*2))\n",
    "print(type('5'+'2'))\n",
    "print(type(5/2))\n",
    "print(type(5%2))\n",
    "print(type({5,2,1}))\n",
    "print(type(5==3))\n",
    "import math\n",
    "print(type(math.pi))"
   ]
  },
  {
   "cell_type": "markdown",
   "id": "7349326a",
   "metadata": {},
   "source": [
    "## Question 2 a)"
   ]
  },
  {
   "cell_type": "code",
   "execution_count": 13,
   "id": "3bdb3a48",
   "metadata": {},
   "outputs": [
    {
     "data": {
      "text/plain": [
       "34"
      ]
     },
     "execution_count": 13,
     "metadata": {},
     "output_type": "execute_result"
    }
   ],
   "source": [
    "len('Supercalifragilisticexpialidocious')"
   ]
  },
  {
   "cell_type": "markdown",
   "id": "6d875fea",
   "metadata": {},
   "source": [
    "## Question 2 b)"
   ]
  },
  {
   "cell_type": "code",
   "execution_count": 16,
   "id": "bc51264e",
   "metadata": {},
   "outputs": [
    {
     "data": {
      "text/plain": [
       "True"
      ]
     },
     "execution_count": 16,
     "metadata": {},
     "output_type": "execute_result"
    }
   ],
   "source": [
    "x='Supercalifragilisticexpialidocious'\n",
    "'ice' in x"
   ]
  },
  {
   "cell_type": "markdown",
   "id": "b9eb8a45",
   "metadata": {},
   "source": [
    "## Question 2 c)"
   ]
  },
  {
   "cell_type": "code",
   "execution_count": 84,
   "id": "dfc96b9d",
   "metadata": {},
   "outputs": [
    {
     "name": "stdout",
     "output_type": "stream",
     "text": [
      "Longest word is Bababadalgharaghtakamminarronnkonn\n"
     ]
    }
   ],
   "source": [
    "str1='Supercalifragilisticexpialidocious'\n",
    "str2='Honorificabilitudinitatibus'\n",
    "str3='Bababadalgharaghtakamminarronnkonn'\n",
    "\n",
    "longest=''\n",
    "if len(str1)>len(str2):\n",
    "   longest=str1\n",
    "else:\n",
    "   longest=str2\n",
    "if len(longest)>len(str3):\n",
    "   print(\"Longest word is\", longest)\n",
    "else:\n",
    "   print(\"Longest word is\", str3)"
   ]
  },
  {
   "cell_type": "markdown",
   "id": "e3aabe04",
   "metadata": {},
   "source": [
    "## Question 2 d)"
   ]
  },
  {
   "cell_type": "code",
   "execution_count": 30,
   "id": "fd7c991e",
   "metadata": {},
   "outputs": [
    {
     "name": "stdout",
     "output_type": "stream",
     "text": [
      "Last word in Dictionary is Buxtehude\n"
     ]
    }
   ],
   "source": [
    "ListOfstrings=['Berlioz', 'Borodin', 'Brian','Bartok', 'Bellini', 'Buxtehude', 'Bernstein']\n",
    "ListOfstrings.sort()\n",
    "print('Last word in Dictionary is', ListOfstrings[-1])"
   ]
  },
  {
   "cell_type": "markdown",
   "id": "6b148fda",
   "metadata": {},
   "source": [
    "## Question 3"
   ]
  },
  {
   "cell_type": "code",
   "execution_count": 39,
   "id": "f8cd671d",
   "metadata": {},
   "outputs": [
    {
     "name": "stdout",
     "output_type": "stream",
     "text": [
      "Enter first side2\n",
      "Enter second side2\n",
      "Enter third side2\n",
      "Area of triangle= 1.7320508075688772\n"
     ]
    }
   ],
   "source": [
    "import math\n",
    "\n",
    "def triangleArea(a,b,c):\n",
    "    s=(a+b+c)/2\n",
    "    area=math.sqrt(s*((s-a)*(s-b)*(s-c)))\n",
    "    return area\n",
    "\n",
    "s1=float(input(\"Enter first side\"))\n",
    "s2=float(input(\"Enter second side\"))\n",
    "s3=float(input(\"Enter third side\"))\n",
    "area=triangleArea(s1,s2,s3)\n",
    "print(\"Area of triangle=\", area)"
   ]
  },
  {
   "cell_type": "markdown",
   "id": "b4beb6f2",
   "metadata": {},
   "source": [
    "## Question 4"
   ]
  },
  {
   "cell_type": "code",
   "execution_count": 9,
   "id": "07e29b46",
   "metadata": {},
   "outputs": [
    {
     "name": "stdout",
     "output_type": "stream",
     "text": [
      "Enter number of elements5\n",
      "25\n",
      "47\n",
      "42\n",
      "56\n",
      "32\n",
      "[25, 47, 42, 56, 32]\n",
      "The Even elements are: [42, 56, 32]\n",
      "The Odd elements are : [25, 47]\n"
     ]
    }
   ],
   "source": [
    "a=[]\n",
    "even=[]\n",
    "odd=[]\n",
    "n=int(input('Enter number of elements'))\n",
    "for i in range(0,n):\n",
    "    ar=int(input())\n",
    "    a.append(ar)\n",
    "print(a)\n",
    "for i in a:\n",
    "    if i%2==0:\n",
    "       even.append(i)\n",
    "    else:\n",
    "       odd.append(i)\n",
    "print('The Even elements are:', even)\n",
    "print('The Odd elements are :', odd) \n"
   ]
  },
  {
   "cell_type": "markdown",
   "id": "9d8c796b",
   "metadata": {},
   "source": [
    "## Question 5 a)"
   ]
  },
  {
   "cell_type": "code",
   "execution_count": 42,
   "id": "d54e90a8",
   "metadata": {},
   "outputs": [
    {
     "name": "stdout",
     "output_type": "stream",
     "text": [
      "Enter lower left x coordinate0\n",
      "Enter lower left y coordinate0\n",
      "Enter upper right x coordinate2\n",
      "Enter upper right y coordinate3\n",
      "Enter x cordinate of point to be checked1\n",
      "Enter y cordinate of point to be checked1\n",
      "True\n"
     ]
    }
   ],
   "source": [
    "def inside(a,b,a1,b1,a2,b2):\n",
    "    \n",
    "     print(x>x1 and x<x2 and y>y1 and y<y2)\n",
    "\n",
    "x1=float(input(\"Enter lower left x coordinate\"))\n",
    "y1=float(input(\"Enter lower left y coordinate\"))\n",
    "x2=float(input(\"Enter upper right x coordinate\"))\n",
    "y2=float(input(\"Enter upper right y coordinate\"))\n",
    "x=float(input(\"Enter x cordinate of point to be checked\"))\n",
    "y=float(input(\"Enter y cordinate of point to be checked\"))\n",
    "print()\n",
    "inside(x,y,x1,y1,x2,y2)\n",
    "\n",
    "\n",
    "\n",
    "       "
   ]
  },
  {
   "cell_type": "markdown",
   "id": "0610153d",
   "metadata": {},
   "source": [
    "## Question 5 b)"
   ]
  },
  {
   "cell_type": "code",
   "execution_count": 47,
   "id": "ead282e8",
   "metadata": {},
   "outputs": [
    {
     "name": "stdout",
     "output_type": "stream",
     "text": [
      "False\n"
     ]
    }
   ],
   "source": [
    "def inside(pt,r1L,r1R,r2L,r2R):\n",
    "    print(pt[0]>r1L[0] and pt[0]>r2L[0] and pt[0]<r1R[0] and pt[0]<r2R[0] #checking if the x coordinate is between the x coordinates of the rectangles\n",
    "          and pt[1]>r1L[1] and pt[1]>r2L[1] and pt[1]<r1R[1] and pt[1]<r2R[1] ) #checking if the y cordinate is between the y coordinates of the rectangles\n",
    "\n",
    "rec1_Lower_Left=(0.3,0.5)\n",
    "rec1_Upper_Right=(1.1,0.7)\n",
    "rec2_Lower_Left=(0.5,0.2)\n",
    "rec2_Upper_Right=(1.1,2)\n",
    "point=(1,1)\n",
    "inside(point,rec1_Lower_Left,rec1_Upper_Right,rec2_Lower_Left,rec2_Upper_Right)"
   ]
  },
  {
   "cell_type": "markdown",
   "id": "e0ea77de",
   "metadata": {},
   "source": [
    "## Question 6"
   ]
  },
  {
   "cell_type": "code",
   "execution_count": 28,
   "id": "e40b350c",
   "metadata": {},
   "outputs": [
    {
     "name": "stdout",
     "output_type": "stream",
     "text": [
      "Enter the word: Enter\n",
      "enterway\n"
     ]
    }
   ],
   "source": [
    "def Pig(word):\n",
    "    if word[0] in ('a','A','e','E','i','I','o','O','u','U'):\n",
    "        newWord=word+'way'\n",
    "        print(newWord.lower()) \n",
    "    else:   \n",
    "        firstLetter=word[0]\n",
    "        newWord=word.replace(word[0],'')\n",
    "        finalWord=newWord+firstLetter+'ay'\n",
    "        print(finalWord.lower())\n",
    "\n",
    "string=str(input(\"Enter the word: \"))\n",
    "Pig(string)"
   ]
  },
  {
   "cell_type": "markdown",
   "id": "aa2731eb",
   "metadata": {},
   "source": [
    "## Question 7"
   ]
  },
  {
   "cell_type": "code",
   "execution_count": 52,
   "id": "0bd9cd71",
   "metadata": {},
   "outputs": [
    {
     "name": "stdout",
     "output_type": "stream",
     "text": [
      "AB AB B O A A AB O AB A O O A A A O O O AB O A A A A A AB AB A AB O AB O A O O O AB O AB AB AB A A O \n",
      "\n",
      "There are  10  patients of blood type A\n",
      "There are  1  patients of blood type B\n",
      "There are  13  patients of blood type AB\n",
      "There are  12  patients of blood type O\n",
      "There are  0  patients of blood type OO\n"
     ]
    }
   ],
   "source": [
    "def bldcount(filename):\n",
    "    file=open(filename,\"r\")\n",
    "    name=file.read()\n",
    "    print(name)\n",
    "    Count_Of_A=name.count(' A ')\n",
    "    Count_Of_B=name.count(' B ')\n",
    "    Count_Of_AB=name.count('AB')\n",
    "    Count_Of_O=name.count(' O ')\n",
    "    Count_Of_OO=name.count('OO')\n",
    "    print(\"There are \",Count_Of_A,\" patients of blood type A\")\n",
    "    print(\"There are \",Count_Of_B,\" patients of blood type B\")\n",
    "    print(\"There are \",Count_Of_AB,\" patients of blood type AB\")\n",
    "    print(\"There are \",Count_Of_O,\" patients of blood type O\")\n",
    "    print(\"There are \",Count_Of_OO,\" patients of blood type OO\")\n",
    "\n",
    "bldcount('bloodtype1.txt')"
   ]
  },
  {
   "cell_type": "markdown",
   "id": "b8de67d5",
   "metadata": {},
   "source": [
    "## Question 8"
   ]
  },
  {
   "cell_type": "code",
   "execution_count": 65,
   "id": "4a7e985b",
   "metadata": {},
   "outputs": [
    {
     "name": "stdout",
     "output_type": "stream",
     "text": [
      "Enter the country code JPY\n",
      "Enter the amount to be converted100\n",
      "USD= 1.241401\n"
     ]
    }
   ],
   "source": [
    "def curconv(code,amount) :\n",
    "    file=open(\"currencies.txt\",\"r\")\n",
    "    for line in file:\n",
    "        data=line.split()\n",
    "        if data[0]==code:\n",
    "            converted_currency=amount*float(data[1])\n",
    "            print(\"USD=\",converted_currency)\n",
    "    \n",
    "\n",
    "cur=str(input(\"Enter the country code \"))\n",
    "amt=float(input(\"Enter the amount to be converted\"))\n",
    "curconv(cur,amt)\n"
   ]
  },
  {
   "cell_type": "markdown",
   "id": "6be66a51",
   "metadata": {},
   "source": [
    "## Question 9"
   ]
  },
  {
   "cell_type": "code",
   "execution_count": 80,
   "id": "59fa1ef7",
   "metadata": {},
   "outputs": [
    {
     "ename": "FileNotFoundError",
     "evalue": "[Errno 2] No such file or directory: 'currencie.txt'",
     "output_type": "error",
     "traceback": [
      "\u001b[1;31m---------------------------------------------------------------------------\u001b[0m",
      "\u001b[1;31mFileNotFoundError\u001b[0m                         Traceback (most recent call last)",
      "Input \u001b[1;32mIn [80]\u001b[0m, in \u001b[0;36m<cell line: 11>\u001b[1;34m()\u001b[0m\n\u001b[0;32m      1\u001b[0m \u001b[38;5;66;03m#print(6+'a') # -->unsupported operand type(s) for +: 'int' and 'str'\u001b[39;00m\n\u001b[0;32m      2\u001b[0m \n\u001b[0;32m      3\u001b[0m \u001b[38;5;66;03m#list=['a','b','c','d','e','f','g','h','i','j','k']\u001b[39;00m\n\u001b[1;32m   (...)\u001b[0m\n\u001b[0;32m      8\u001b[0m \n\u001b[0;32m      9\u001b[0m \u001b[38;5;66;03m#print(x) #--> name 'x' is not defined\u001b[39;00m\n\u001b[1;32m---> 11\u001b[0m file\u001b[38;5;241m=\u001b[39m\u001b[38;5;28;43mopen\u001b[39;49m\u001b[43m(\u001b[49m\u001b[38;5;124;43m\"\u001b[39;49m\u001b[38;5;124;43mcurrencie.txt\u001b[39;49m\u001b[38;5;124;43m\"\u001b[39;49m\u001b[43m,\u001b[49m\u001b[38;5;124;43m\"\u001b[39;49m\u001b[38;5;124;43mr\u001b[39;49m\u001b[38;5;124;43m\"\u001b[39;49m\u001b[43m)\u001b[49m\n\u001b[0;32m     12\u001b[0m data\u001b[38;5;241m=\u001b[39mfile\u001b[38;5;241m.\u001b[39mread()\n",
      "\u001b[1;31mFileNotFoundError\u001b[0m: [Errno 2] No such file or directory: 'currencie.txt'"
     ]
    }
   ],
   "source": [
    "print(6+'a') # -->unsupported operand type(s) for +: 'int' and 'str'\n",
    "\n",
    "list=['a','b','c','d','e','f','g','h','i','j','k']\n",
    "print(list[12]) # -->list index out of range\n",
    "\n",
    "import math\n",
    "print(math.sqrt(-1.0)) # --> math domain error.sqrt of negative number is invalid\n",
    "\n",
    "print(x) #--> name 'x' is not defined\n",
    "\n",
    "file=open(\"currencie.txt\",\"r\")\n",
    "data=file.read() #--> No such file or directory: 'currencie.txt'\n",
    "\n"
   ]
  },
  {
   "cell_type": "markdown",
   "id": "c5b089d6",
   "metadata": {},
   "source": [
    "## Question 10"
   ]
  },
  {
   "cell_type": "code",
   "execution_count": 81,
   "id": "446c96d7",
   "metadata": {},
   "outputs": [
    {
     "name": "stdout",
     "output_type": "stream",
     "text": [
      "Enter the sentence :the quick red fox got bored and went home.\n",
      "dict_values([1, 1, 1, 3, 5, 1, 1, 2, 1, 0, 1, 0, 1, 2, 4, 0, 1, 2, 0, 3, 1, 0, 1, 1, 0, 0])\n"
     ]
    }
   ],
   "source": [
    "Dict={'a':0,'b':0,'c':0,'d':0,'e':0,'f':0,'g':0,'h':0,'i':0,'j':0,'k':0,'l':0,'m':0,'n':0,'o':0,'p':0,'q':0,'r':0,'s':0,'t':0,'u':0,'v':0,'w':0,'x':0,'y':0,'z':0}\n",
    "def frequencies(sentence):\n",
    "    for i in sentence:\n",
    "        if i in Dict:\n",
    "            Dict[i]=Dict[i]+1\n",
    "    x=Dict.values()\n",
    "    print(x)\n",
    "            \n",
    "   \n",
    "sent=str(input(\"Enter the sentence :\"))\n",
    "frequencies(sent)"
   ]
  },
  {
   "cell_type": "code",
   "execution_count": null,
   "id": "c51cfeac",
   "metadata": {},
   "outputs": [],
   "source": []
  }
 ],
 "metadata": {
  "kernelspec": {
   "display_name": "Python 3 (ipykernel)",
   "language": "python",
   "name": "python3"
  },
  "language_info": {
   "codemirror_mode": {
    "name": "ipython",
    "version": 3
   },
   "file_extension": ".py",
   "mimetype": "text/x-python",
   "name": "python",
   "nbconvert_exporter": "python",
   "pygments_lexer": "ipython3",
   "version": "3.9.12"
  }
 },
 "nbformat": 4,
 "nbformat_minor": 5
}
